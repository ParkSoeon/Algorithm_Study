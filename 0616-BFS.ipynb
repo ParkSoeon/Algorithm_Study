{
  "nbformat": 4,
  "nbformat_minor": 0,
  "metadata": {
    "colab": {
      "provenance": []
    },
    "kernelspec": {
      "name": "python3",
      "display_name": "Python 3"
    },
    "language_info": {
      "name": "python"
    }
  },
  "cells": [
    {
      "cell_type": "markdown",
      "source": [
        "# **240616**\n",
        "### **Transform Words**"
      ],
      "metadata": {
        "id": "a8hFUIFvAyhE"
      }
    },
    {
      "cell_type": "markdown",
      "source": [
        "ref) https://school.programmers.co.kr/learn/courses/30/lessons/43163"
      ],
      "metadata": {
        "id": "tZuxGt1SBCPR"
      }
    },
    {
      "cell_type": "code",
      "execution_count": 1,
      "metadata": {
        "id": "e37qtAA0AuuU"
      },
      "outputs": [],
      "source": [
        "# Focus on BFS Algorithm\n",
        "\n",
        "def solution(begin, target, words):\n",
        "  # Check the case if target is not in words list\n",
        "  if target not in words:\n",
        "    return 0\n",
        "\n",
        "  # Check if can transform words\n",
        "  def checkTrnasform(word1, word2):\n",
        "    diff_cnt = 0\n",
        "    for i in range(len(word1)):\n",
        "      if word1[i] != word2[i]:\n",
        "        diff_cnt += 1\n",
        "      if diff_cnt > 1:\n",
        "        return False\n",
        "    return diff_cnt == 1\n",
        "\n",
        "  # Initialize Queue\n",
        "  queue = [(begin, 0)] # [(Current, num of change)]\n",
        "  visited = set()\n",
        "\n",
        "  # BFS\n",
        "  while queue:\n",
        "    current, steps = queue.pop(0) # pop\n",
        "\n",
        "    if current == target:\n",
        "      return steps\n",
        "\n",
        "    # Mark visited\n",
        "    visited.add(current)\n",
        "\n",
        "    # Add new words to queue\n",
        "    for word in words:\n",
        "      if word not in visited and checkTrnasform(current, word):\n",
        "        queue.append((word, steps + 1))\n",
        "\n",
        "  # If not found, return 0\n",
        "  return 0"
      ]
    },
    {
      "cell_type": "code",
      "source": [
        "begin = 'hit'\n",
        "target = 'cog'\n",
        "words = ['hot', 'dot', 'dog', 'lot', 'log', 'cog']\n",
        "\n",
        "solution(begin, target, words)"
      ],
      "metadata": {
        "colab": {
          "base_uri": "https://localhost:8080/"
        },
        "id": "MsMGXtAF4Hdt",
        "outputId": "86d6e0c8-106f-4c52-91dc-3a609d7a11f2"
      },
      "execution_count": 2,
      "outputs": [
        {
          "output_type": "execute_result",
          "data": {
            "text/plain": [
              "4"
            ]
          },
          "metadata": {},
          "execution_count": 2
        }
      ]
    },
    {
      "cell_type": "code",
      "source": [],
      "metadata": {
        "id": "T3BYVcIB4T2b"
      },
      "execution_count": null,
      "outputs": []
    }
  ]
}